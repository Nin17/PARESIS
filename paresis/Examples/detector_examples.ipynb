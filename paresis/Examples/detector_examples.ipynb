{
 "cells": [
  {
   "cell_type": "markdown",
   "metadata": {},
   "source": [
    "Example of creating detectors"
   ]
  },
  {
   "cell_type": "code",
   "execution_count": 1,
   "metadata": {},
   "outputs": [
    {
     "data": {
      "text/plain": [
       "                   beta: ()\n",
       "         bin_thresholds: array([20.  , 30.  , 39.75])\n",
       "             dimensions: array([300., 300.])\n",
       "       efficiency_limit: 1.0\n",
       "           energy_limit: 200.0\n",
       "              json_file: 'json_files/detectors.json'\n",
       "                margins: 0.0\n",
       "                   name: 'flatPanelSimap'\n",
       "             pixel_size: array([50., 50.])\n",
       "                    psf: 1.0\n",
       "  scintillator_material: 'CsI'\n",
       " scintillator_thickness: 600.0"
      ]
     },
     "execution_count": 1,
     "metadata": {},
     "output_type": "execute_result"
    }
   ],
   "source": [
    "from detector_2 import Detector\n",
    "detector = Detector()\n",
    "detector.name = 'flatPanelSimap'\n",
    "# detector.to_json()\n",
    "detector._from_json()\n",
    "detector"
   ]
  },
  {
   "cell_type": "markdown",
   "metadata": {},
   "source": [
    "Create a detector object from the xml file"
   ]
  },
  {
   "cell_type": "code",
   "execution_count": null,
   "metadata": {},
   "outputs": [],
   "source": [
    "xml_detector = Detector(name='flatPanelSimap')\n",
    "xml_detector"
   ]
  }
 ],
 "metadata": {
  "interpreter": {
   "hash": "56941cacf15e8b05765996006082865469347c2b4cdce983108d1335de8b4245"
  },
  "kernelspec": {
   "display_name": "Python 3.8.13 ('base')",
   "language": "python",
   "name": "python3"
  },
  "language_info": {
   "codemirror_mode": {
    "name": "ipython",
    "version": 3
   },
   "file_extension": ".py",
   "mimetype": "text/x-python",
   "name": "python",
   "nbconvert_exporter": "python",
   "pygments_lexer": "ipython3",
   "version": "3.8.13"
  },
  "orig_nbformat": 4,
  "vscode": {
   "interpreter": {
    "hash": "56941cacf15e8b05765996006082865469347c2b4cdce983108d1335de8b4245"
   }
  }
 },
 "nbformat": 4,
 "nbformat_minor": 2
}
