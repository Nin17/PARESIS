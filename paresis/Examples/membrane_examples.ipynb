{
 "cells": [
  {
   "cell_type": "code",
   "execution_count": null,
   "metadata": {},
   "outputs": [],
   "source": [
    "from membranes_2 import WhiteMembrane, BlueMembrane, SpiralMembrane, SunflowerMembrane, RegularMembrane, MultiLayerMembrane\n",
    "from samples_2 import Sample, AnalyticalSample, Sphere, Cone, Ellipsoid, SuperQuadric\n",
    "import matplotlib.pyplot as plt\n",
    "import numpy as np\n",
    "\n",
    "multilayer = MultiLayerMembrane(np.ones((100,100)))"
   ]
  },
  {
   "cell_type": "code",
   "execution_count": null,
   "metadata": {},
   "outputs": [],
   "source": [
    "RegularMembrane(grid_spacing = 12.5e-6, shape=Sphere, shape_kwargs={'radius': 5e-6}, pixel_size=1e-6, dimensions=(200, 200)).show_sample()"
   ]
  },
  {
   "cell_type": "code",
   "execution_count": null,
   "metadata": {},
   "outputs": [],
   "source": [
    "regular_membrane = RegularMembrane(grid_spacing = 20, shape=Cone, shape_kwargs={'radii':[10,10]},dimensions=(300,200), materials=('Gold','Liver'))\n",
    "regular_membrane.show_positions()\n",
    "regular_membrane.show_sample()\n",
    "regular_membrane.show_gradient()\n",
    "plt.show()"
   ]
  },
  {
   "cell_type": "code",
   "execution_count": null,
   "metadata": {},
   "outputs": [],
   "source": [
    "spiral_membrane = SpiralMembrane(shape=Cone, shape_kwargs={'radii':[1,1]}, dimensions=(300, 200))\n",
    "spiral_membrane.show_sample()\n",
    "spiral_membrane.show_positions()\n",
    "spiral_membrane.show_gradient()\n",
    "plt.show()"
   ]
  },
  {
   "cell_type": "code",
   "execution_count": null,
   "metadata": {},
   "outputs": [],
   "source": [
    "sunflower_membrane = SunflowerMembrane(radius = 10, shape=Sphere, shape_kwargs={'radius':5},dimensions=(200, 200))\n",
    "sunflower_membrane.show_sample()\n",
    "sunflower_membrane.show_positions()\n",
    "sunflower_membrane.show_gradient()\n",
    "plt.show()"
   ]
  },
  {
   "cell_type": "code",
   "execution_count": null,
   "metadata": {},
   "outputs": [],
   "source": [
    "membrane = WhiteMembrane(400, shape=Cone,shape_kwargs={'radii':[20,10]}, dimensions=(300, 200), pixel_size=1, materials=('Gold', 'Body'))\n",
    "membrane.show_sample()\n",
    "membrane.show_positions()\n",
    "membrane.show_gradient()\n",
    "plt.show()"
   ]
  },
  {
   "cell_type": "code",
   "execution_count": null,
   "metadata": {},
   "outputs": [],
   "source": [
    "blue_membrane = BlueMembrane(dimensions=(200, 200), radius=15, shape=Ellipsoid, shape_kwargs={'radii': [20, 5,5]})\n",
    "blue_membrane2 = BlueMembrane(dimensions=(200, 200), radius=15, shape=Ellipsoid, shape_kwargs={'radii': [20, 5,5]}, materials=('Gold',))\n",
    "blue_membrane.show_sample()\n",
    "blue_membrane.show_positions()\n",
    "blue_membrane.show_gradient()\n",
    "plt.show()\n",
    "# print(list(blue_membrane._positions))"
   ]
  },
  {
   "cell_type": "code",
   "execution_count": null,
   "metadata": {},
   "outputs": [],
   "source": [
    "dim_x = 200\n",
    "ps = 1e-1\n",
    "dim_x *= 1\n",
    "grid_spacing = 20\n",
    "# grid_spacing *= ps\n",
    "import numpy as np\n",
    "np.linspace(-(dim_x//2), -(dim_x//-2), int(dim_x/grid_spacing)+1)"
   ]
  }
 ],
 "metadata": {
  "interpreter": {
   "hash": "56941cacf15e8b05765996006082865469347c2b4cdce983108d1335de8b4245"
  },
  "kernelspec": {
   "display_name": "Python 3.8.13 ('base')",
   "language": "python",
   "name": "python3"
  },
  "language_info": {
   "codemirror_mode": {
    "name": "ipython",
    "version": 3
   },
   "file_extension": ".py",
   "mimetype": "text/x-python",
   "name": "python",
   "nbconvert_exporter": "python",
   "pygments_lexer": "ipython3",
   "version": "3.8.13"
  },
  "orig_nbformat": 4,
  "vscode": {
   "interpreter": {
    "hash": "56941cacf15e8b05765996006082865469347c2b4cdce983108d1335de8b4245"
   }
  }
 },
 "nbformat": 4,
 "nbformat_minor": 2
}
